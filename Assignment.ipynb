{
 "cells": [
  {
   "cell_type": "code",
   "execution_count": 1,
   "id": "8adda46c-5977-484f-b2eb-6ec12bae24f5",
   "metadata": {},
   "outputs": [],
   "source": [
    "# Q1. What are the characteristics of the tuples? Is tuple immutable?"
   ]
  },
  {
   "cell_type": "markdown",
   "id": "72460024-0af2-4505-9ffb-ac946823467f",
   "metadata": {},
   "source": [
    "#1.Tuples are Immutable.\n",
    "* Tuples can contain Duplicates\n",
    "* Tuples are in Sequence"
   ]
  },
  {
   "cell_type": "markdown",
   "id": "3c39aa46-44da-435a-b4ee-d06c8310a682",
   "metadata": {},
   "source": [
    "#Q2. What are the two tuple methods in python? Give an example of each method. Give a reason why\n",
    "tuples have only two in-built methods as compared to Lists."
   ]
  },
  {
   "cell_type": "markdown",
   "id": "a1717953-80fc-4589-98a5-be006f078a5b",
   "metadata": {},
   "source": [
    "#2\n",
    "* Two methods are count and index.\n",
    "* 2. t1 = (1,2,3,4,45,45.45 , 45+7j , \"sudh\" , True)\n",
    "count(t1),  t1.index(1)\n",
    "* 3.Tuples only have two in-built methods because they are designed to be immutable and only need to support a limited number of non-modifying operations, while lists have many in-built methods because they are designed to be mutable and support a wide range of modifying operations"
   ]
  },
  {
   "cell_type": "markdown",
   "id": "26b90fe1-58e1-4e84-9deb-94fe3ddec9c0",
   "metadata": {},
   "source": [
    "#Which collection datatypes in python do not allow duplicate items? Write a code using a set to remove\n",
    "duplicates from the given list."
   ]
  },
  {
   "cell_type": "markdown",
   "id": "c1a5274f-e59e-43d8-abd9-689766dd0f2a",
   "metadata": {},
   "source": [
    "#3\n",
    "* Set do not allow duplicate items.\n",
    "* my_list = [1, 2, 3, 2, 4, 5, 1, 5, 6]\n",
    "unique_set = set(my_list)\n",
    "new_list = list(unique_set)"
   ]
  },
  {
   "cell_type": "markdown",
   "id": "98e2bd80-8d98-4c30-8a92-43912f3c2b72",
   "metadata": {},
   "source": [
    "#Q4. Explain the difference between the union() and update() methods for a set. Give an example of\n",
    "each method."
   ]
  },
  {
   "cell_type": "markdown",
   "id": "cd9463a9-c63b-4eed-9922-1dad510f0afd",
   "metadata": {},
   "source": [
    "4. \n",
    "* union() method returns a new set that contains all the unique elements present in both sets, without modifying the original set.\n",
    "set1 = {1, 2, 3}\n",
    "set2 = {3, 4, 5}\n",
    "set3 = set1.union(set2)\n",
    "* update() method modifies the original set by adding all the unique elements of another set to it.\n",
    "set1 = {1, 2, 3}\n",
    "set2 = {3, 4, 5}\n",
    "set1.update(set2)"
   ]
  },
  {
   "cell_type": "markdown",
   "id": "d2228226-1be2-4dad-b0b5-9fd1beed744e",
   "metadata": {},
   "source": [
    "@5 What is a dictionary? Give an example. Also, state whether a dictionary is ordered or unordered."
   ]
  },
  {
   "cell_type": "markdown",
   "id": "d315494d-cb2a-4ce3-8e27-2708b562b5df",
   "metadata": {},
   "source": [
    "5.\n",
    "* A dictionary in Python is an unordered collection of key-value pairs. Each key in a dictionary is unique.\n",
    "* eg- my_dict = {\"apple\": 1, \"banana\": 2, \"cherry\": 3}\n",
    "* Dict are unordered"
   ]
  },
  {
   "cell_type": "markdown",
   "id": "a514ac3d-05ac-4681-8350-231e2687adb5",
   "metadata": {},
   "source": [
    "Q6. Can we create a nested dictionary? If so, please give an example by creating a simple one-level\n",
    "nested dictionary."
   ]
  },
  {
   "cell_type": "markdown",
   "id": "7d41a280-8dbb-4a4a-a505-c8e97951f98a",
   "metadata": {},
   "source": [
    "Yes we can create a Nested Dictionary. eg-d15 = {'key' : {'name' : 'Tushar'}}"
   ]
  },
  {
   "cell_type": "markdown",
   "id": "3a4ab0b4-78d6-41d5-a376-220dc60fbaea",
   "metadata": {},
   "source": [
    "Q7. Using setdefault() method, create key named topics in the given dictionary and also add the value of\n",
    "the key as this list ['Python', 'Machine Learning’, 'Deep Learning']\n",
    "dict1 = {'language' : 'Python', 'course': 'Data Science Masters'}"
   ]
  },
  {
   "cell_type": "code",
   "execution_count": 3,
   "id": "45a2f3bc-38b2-4949-9ba3-3bb292b44121",
   "metadata": {},
   "outputs": [
    {
     "data": {
      "text/plain": [
       "['Python', 'Machine Learning', 'Deep Learning']"
      ]
     },
     "execution_count": 3,
     "metadata": {},
     "output_type": "execute_result"
    }
   ],
   "source": [
    "dict1 = {'language' : 'Python', 'course': 'Data Science Masters'}\n",
    "dict1.setdefault('topics', ['Python', 'Machine Learning', 'Deep Learning'])"
   ]
  },
  {
   "cell_type": "markdown",
   "id": "fe998708-23b4-485f-b4cf-2e9dc827ff2b",
   "metadata": {},
   "source": [
    "Q8. What are the three view objects in dictionaries? Use the three in-built methods in python to display\n",
    "these three view objects for the given dictionary."
   ]
  },
  {
   "cell_type": "markdown",
   "id": "038d78ed-d608-4e10-9aa7-ba0890c4d954",
   "metadata": {},
   "source": [
    "3 view objects are- .keys , .values, .items"
   ]
  },
  {
   "cell_type": "code",
   "execution_count": 4,
   "id": "a7a305ca-2a94-412c-9a62-e0c097a6c550",
   "metadata": {},
   "outputs": [],
   "source": [
    "my_dict = {'a': 1, 'b': 2, 'c': 3}"
   ]
  },
  {
   "cell_type": "code",
   "execution_count": 5,
   "id": "250ef349-c85b-4a6a-9222-eb998d4f54da",
   "metadata": {},
   "outputs": [
    {
     "data": {
      "text/plain": [
       "dict_keys(['a', 'b', 'c'])"
      ]
     },
     "execution_count": 5,
     "metadata": {},
     "output_type": "execute_result"
    }
   ],
   "source": [
    "my_dict.keys()"
   ]
  },
  {
   "cell_type": "code",
   "execution_count": 8,
   "id": "c023c199-beeb-4e93-969d-13f393a92c57",
   "metadata": {},
   "outputs": [
    {
     "data": {
      "text/plain": [
       "dict_values([1, 2, 3])"
      ]
     },
     "execution_count": 8,
     "metadata": {},
     "output_type": "execute_result"
    }
   ],
   "source": [
    "my_dict.values()"
   ]
  },
  {
   "cell_type": "code",
   "execution_count": 9,
   "id": "2c45b446-b878-49a1-9bae-3ec9a8e4d03f",
   "metadata": {},
   "outputs": [
    {
     "data": {
      "text/plain": [
       "dict_items([('a', 1), ('b', 2), ('c', 3)])"
      ]
     },
     "execution_count": 9,
     "metadata": {},
     "output_type": "execute_result"
    }
   ],
   "source": [
    "my_dict.items()"
   ]
  },
  {
   "cell_type": "code",
   "execution_count": null,
   "id": "ed6dd44c-a69c-43b3-be0e-49771200a59f",
   "metadata": {},
   "outputs": [],
   "source": []
  }
 ],
 "metadata": {
  "kernelspec": {
   "display_name": "Python 3 (ipykernel)",
   "language": "python",
   "name": "python3"
  },
  "language_info": {
   "codemirror_mode": {
    "name": "ipython",
    "version": 3
   },
   "file_extension": ".py",
   "mimetype": "text/x-python",
   "name": "python",
   "nbconvert_exporter": "python",
   "pygments_lexer": "ipython3",
   "version": "3.10.8"
  }
 },
 "nbformat": 4,
 "nbformat_minor": 5
}
