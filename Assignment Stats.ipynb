{
 "cells": [
  {
   "cell_type": "code",
   "execution_count": 1,
   "id": "1cb47d27-47c3-4c93-999a-7b36fb52ba7e",
   "metadata": {},
   "outputs": [],
   "source": [
    "#Q1. What is Statistics?"
   ]
  },
  {
   "cell_type": "code",
   "execution_count": 2,
   "id": "adb08749-b5bc-49aa-b778-3c48630ceaa4",
   "metadata": {},
   "outputs": [],
   "source": [
    "# Ans- Statistics is the science of collecting, organising and analyzing data."
   ]
  },
  {
   "cell_type": "markdown",
   "id": "142eac42-278f-4d99-aa6b-9570a16921cb",
   "metadata": {},
   "source": [
    "#Q2. Define the different types of statistics and give an example of when each type might be used.\n",
    "Ans- There are two types of stats-\n",
    "1. Descriptive- Consist of organizing data and summarizing data. Eg- What is the average height in a classroom.\n",
    "2. Inferential - It consist of using data you have measured to form conclusion. eg- Are the average height of the students in class similar to the entire college.\n"
   ]
  },
  {
   "cell_type": "markdown",
   "id": "febb472d-1532-4c95-b9a9-58862840dbda",
   "metadata": {},
   "source": [
    "Q3. What are the different types of data and how do they differ from each other? Provide an example of\n",
    "each type of data.\n",
    "\n",
    "ans- Types of data-\n",
    "1. Quantitative- It is a Numerical Data. It has 2 types-\n",
    "* Discrete - These are whole number eg- Number of bank accounts.\n",
    "* Continuous - It containts any value , eg- Weight of a person.\n",
    "2. Qualitative - These are categorical Data. 2types-\n",
    "* Nominal- These dont have rank. eg- Gender \n",
    "* Odinal - They are ranked. eg - Rating(good-rank 1, satisfactory - rank 2, poor - rank3 )"
   ]
  },
  {
   "cell_type": "markdown",
   "id": "4891f532-12e5-430f-91ec-0016c9dcddf1",
   "metadata": {},
   "source": [
    "Q4. Categorise the following datasets with respect to quantitative and qualitative data types:\n",
    "(i) Grading in exam: A+, A, B+, B, C+, C, D, E\n",
    "(ii) Colour of mangoes: yellow, green, orange, red\n",
    "(iii) Height data of a class: [178.9, 179, 179.5, 176, 177.2, 178.3, 175.8,...]\n",
    "(iv) Number of mangoes exported by a farm: [500, 600, 478, 672, ...]\n",
    "\n",
    "ans - (i) Qualitative- Odinal\n",
    "(ii) Qualitative - Nominal\n",
    "(iii) Quantitative - Continuous\n",
    "(iv) Quantitative - Discrete"
   ]
  },
  {
   "cell_type": "markdown",
   "id": "2ab8320b-e1de-45d5-b549-184168cac931",
   "metadata": {},
   "source": [
    "Q5. Explain the concept of levels of measurement and give an example of a variable for each level.\n",
    "\n",
    "ans- Level of measurement is used to classify and categorize different types of variables .\n",
    "\n",
    "Nominal Level:\n",
    "At the nominal level, variables are characterized by categories or labels with no inherent numerical value or order. The only distinction is whether two items are the same or different. Examples of nominal variables include:\n",
    "Gender (categories: male, female, other)\n",
    "\n",
    "Ordinal Level:\n",
    "The ordinal level of measurement involves variables that can be ranked or ordered. While the order matters, the intervals between the values are not necessarily equal. Examples of ordinal variables include:\n",
    "Educational attainment (categories: high school, bachelor's degree, master's degree, doctorate)\n",
    "\n",
    "Interval Level:\n",
    "At the interval level, variables have equal intervals between values, but there is no true zero point. The absence of a zero means that ratios and proportions cannot be calculated. Examples of interval variables include:\n",
    "Temperature measured in Celsius or Fahrenheit (e.g., 25°C, 50°F)\n",
    "\n",
    "Ratio Level:\n",
    "The ratio level represents variables with equal intervals between values and a true zero point. This allows for meaningful ratios and proportions to be calculated. Examples of ratio variables include:\n",
    "Height in centimeters or inches (e.g., 160 cm, 70 inches)\n",
    "Weight in kilograms or pounds (e.g., 70 kg, 154 lbs)\n",
    "Income (e.g., $30,000, $50,000, $100,000)"
   ]
  },
  {
   "cell_type": "markdown",
   "id": "cc1d5593-d550-4d2f-bacf-f4cd11e629b2",
   "metadata": {},
   "source": [
    "Q6. Why is it important to understand the level of measurement when analyzing data? Provide an\n",
    "example to illustrate your answer.\n",
    "\n",
    "Ans - It determines the types of statistical analysis that can be applied to the data and the appropriate interpretation of the results.\n",
    "Suppose a researcher is conducting a study on the effects of different exercise programs on weight loss. They collect data on three exercise programs labeled A, B, and C (nominal variable) and measure the weight loss in kilograms (ratio variable) for each participant.\n",
    "\n",
    "Understanding the level of measurement is crucial in this analysis. It helps the researcher decide the appropriate statistical tests to compare the mean weight loss across exercise programs (e.g., one-way ANOVA) and interpret the results accurately."
   ]
  },
  {
   "cell_type": "markdown",
   "id": "1a8a03eb-b6dc-4ddd-b5a4-50a181b013d2",
   "metadata": {},
   "source": [
    "Q7. How nominal data type is different from ordinal data type.\n",
    "\n",
    "Ans - In nomial data type we do not give rank but in ordinal data type, ranks can be meaured."
   ]
  },
  {
   "cell_type": "markdown",
   "id": "56bc00c5-ae83-4477-805d-9541edc35a28",
   "metadata": {},
   "source": [
    "Q8. Which type of plot can be used to display data in terms of range?\n",
    "\n",
    "Ans - Box plot can be used."
   ]
  },
  {
   "cell_type": "markdown",
   "id": "4a86b634-83d8-4d76-b8e6-a668d429ffdd",
   "metadata": {},
   "source": [
    "Q9. Describe the difference between descriptive and inferential statistics. Give an example of each\n",
    "type of statistics and explain how they are used.\n",
    "\n",
    "Ans - 1. Descriptive- Consist of organizing data and summarizing data. Eg- What is the average height in a classroom.\n",
    "2. Inferential - It consist of using data you have measured to form conclusion. eg- Are the average height of the students in class similar to the entire college.\n"
   ]
  },
  {
   "cell_type": "markdown",
   "id": "1625f2a1-7880-4630-8c34-c14515d080a8",
   "metadata": {},
   "source": [
    "Q10. What are some common measures of central tendency and variability used in statistics? Explain\n",
    "how each measure can be used to describe a dataset.\n",
    "\n",
    "Ans- Measures of Central Tendency:\n",
    "Mean, median , mode\n",
    "\n",
    "Measures of Variability:\n",
    "Range, Variance , Standard Deviation\n",
    "\n",
    "These measures of central tendency and variability provide different insights into the characteristics of a dataset. By considering both central tendency and variability measures, statisticians can describe the typical value, the spread, and the distribution of the data, facilitating a comprehensive understanding of the dataset."
   ]
  },
  {
   "cell_type": "code",
   "execution_count": null,
   "id": "2eb71c8b-cd34-4638-81d8-eaec4aaeda02",
   "metadata": {},
   "outputs": [],
   "source": []
  }
 ],
 "metadata": {
  "kernelspec": {
   "display_name": "Python 3 (ipykernel)",
   "language": "python",
   "name": "python3"
  },
  "language_info": {
   "codemirror_mode": {
    "name": "ipython",
    "version": 3
   },
   "file_extension": ".py",
   "mimetype": "text/x-python",
   "name": "python",
   "nbconvert_exporter": "python",
   "pygments_lexer": "ipython3",
   "version": "3.10.8"
  }
 },
 "nbformat": 4,
 "nbformat_minor": 5
}
